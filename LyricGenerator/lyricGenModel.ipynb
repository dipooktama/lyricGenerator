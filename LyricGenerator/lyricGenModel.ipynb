{
 "cells": [
  {
   "cell_type": "code",
   "execution_count": 1,
   "metadata": {},
   "outputs": [
    {
     "name": "stderr",
     "output_type": "stream",
     "text": [
      "Using TensorFlow backend.\n"
     ]
    }
   ],
   "source": [
    "import pandas as pd\n",
    "import numpy as np\n",
    "import re\n",
    "from sklearn import preprocessing\n",
    "from keras.layers import Dense\n",
    "from keras.layers import Embedding\n",
    "from keras import Sequential\n",
    "import keras\n",
    "import pickle\n",
    "from IPython.display import HTML"
   ]
  },
  {
   "cell_type": "code",
   "execution_count": 2,
   "metadata": {},
   "outputs": [],
   "source": [
    "def clean_text_lyric(lyric, max_length):\n",
    "    lyric_sample = lyric.split('</span>')\n",
    "    lyric_sample = lyric_sample[:-1]\n",
    "    \n",
    "    clean_song_lyric = \"\"\n",
    "    for sentence in lyric_sample:\n",
    "        if 'http' not in sentence:\n",
    "            sentence = re.sub(r'<div .*>','',sentence)\n",
    "            sentence = re.sub(r'<span .*>','',sentence)\n",
    "            sentence = sentence.strip()\n",
    "            if len(sentence) > 0:\n",
    "                sentence = re.sub(r'[^a-zA-Z0-9<\\/>\\s]',' ', sentence)\n",
    "                \n",
    "                sentence = \" <div> \" + sentence + \" </div> \"\n",
    "                sentence = re.sub(r'<div>\\s+<br>','<br> <div> ', sentence)\n",
    "                sentence = re.sub(r'(\\d|\\r|\\t|\\n)','',sentence)\n",
    "\n",
    "                clean_song_lyric += sentence\n",
    "\n",
    "    clean_song_lyric = ' <start> ' * (max_length-1) + clean_song_lyric\n",
    "    return clean_song_lyric"
   ]
  },
  {
   "cell_type": "code",
   "execution_count": 3,
   "metadata": {},
   "outputs": [],
   "source": [
    "max_length = 10\n",
    "\n",
    "scrape_lyric = pd.read_csv(r'C:\\kuliah\\NLP\\[TUGASMANDIRINLP][054][131]\\scraper.csv')\n",
    "scrape_lyric = scrape_lyric[['song','title']]\n",
    "scrape_lyric = scrape_lyric.dropna()\n",
    "scrape_lyric = scrape_lyric[scrape_lyric.song.str.contains('span')]\n",
    "scrape_lyric.song = scrape_lyric.song.apply(lambda x: clean_text_lyric(x,max_length))\n",
    "scrape_lyric = scrape_lyric[~(scrape_lyric.song.str.contains('Belum Ada Lirik'))]\n",
    "scrape_lyric = scrape_lyric.reset_index(drop=True)"
   ]
  },
  {
   "cell_type": "code",
   "execution_count": 4,
   "metadata": {},
   "outputs": [],
   "source": [
    "def generate_train_dataset(song_series, window):\n",
    "    train_data = []\n",
    "    train_label = []\n",
    "    for song_string in song_series:\n",
    "        song_arr = song_string.split()\n",
    "        len_song_arr = len(song_arr)\n",
    "\n",
    "        for i in range(0,len_song_arr-window+1):\n",
    "            train_data.append(' '.join(song_arr[i:i+window-1]))\n",
    "            train_label.append(song_arr[i+window-1])\n",
    "    return np.array(train_data), np.array(train_label)"
   ]
  },
  {
   "cell_type": "code",
   "execution_count": 5,
   "metadata": {},
   "outputs": [],
   "source": [
    "X, y = generate_train_dataset(scrape_lyric.song, window=max_length)\n",
    "pre = keras.preprocessing.text.Tokenizer(filters='!\"#$%&()*+,-.:;=?@[\\\\]^_`{|}~\\t\\n')\n",
    "pre.fit_on_texts(X.flatten())\n",
    "\n",
    "vocab_size = len(pre.word_index)\n",
    "X = pre.texts_to_sequences(X)\n",
    "y = pre.texts_to_sequences(y)"
   ]
  },
  {
   "cell_type": "code",
   "execution_count": 6,
   "metadata": {},
   "outputs": [],
   "source": [
    "model = Sequential()\n",
    "e = Embedding(vocab_size,100 ,input_length=max_length-1, trainable=True)\n",
    "model.add(e)\n",
    "model.add(keras.layers.BatchNormalization())\n",
    "model.add(keras.layers.Bidirectional(keras.layers.LSTM(100)))\n",
    "model.add(keras.layers.BatchNormalization())\n",
    "\n",
    "model.add(Dense(100, activation='relu'))\n",
    "model.add(keras.layers.BatchNormalization())\n",
    "\n",
    "model.add(Dense(vocab_size+1, activation='softmax'))\n",
    "# compile the model\n",
    "model.compile(optimizer='adam', loss='categorical_crossentropy')"
   ]
  },
  {
   "cell_type": "code",
   "execution_count": 7,
   "metadata": {},
   "outputs": [],
   "source": [
    "def batch_data(start,end):\n",
    "    global X,y,y_input, X_input\n",
    "    X_input = np.array(X)[start:end]\n",
    "    y_input = np.array(y)[start:end]\n",
    "    y_input = keras.utils.to_categorical(y_input,vocab_size+1)\n"
   ]
  },
  {
   "cell_type": "code",
   "execution_count": 8,
   "metadata": {
    "collapsed": true
   },
   "outputs": [
    {
     "name": "stdout",
     "output_type": "stream",
     "text": [
      "epoch 0\n"
     ]
    },
    {
     "name": "stderr",
     "output_type": "stream",
     "text": [
      "C:\\Users\\user\\AppData\\Roaming\\Python\\Python37\\site-packages\\tensorflow_core\\python\\framework\\indexed_slices.py:424: UserWarning: Converting sparse IndexedSlices to a dense Tensor of unknown shape. This may consume a large amount of memory.\n",
      "  \"Converting sparse IndexedSlices to a dense Tensor of unknown shape. \"\n"
     ]
    },
    {
     "name": "stdout",
     "output_type": "stream",
     "text": [
      "Epoch 1/1\n",
      "10000/10000 [==============================] - 21s 2ms/step - loss: 7.1162\n",
      "Epoch 1/1\n",
      "10000/10000 [==============================] - 20s 2ms/step - loss: 5.1499\n",
      "Epoch 1/1\n",
      "10000/10000 [==============================] - 20s 2ms/step - loss: 5.0523\n",
      "Epoch 1/1\n",
      "10000/10000 [==============================] - 19s 2ms/step - loss: 4.8824\n",
      "Epoch 1/1\n",
      "10000/10000 [==============================] - 22s 2ms/step - loss: 4.8264\n",
      "Epoch 1/1\n",
      "10000/10000 [==============================] - 21s 2ms/step - loss: 4.6917\n",
      "Epoch 1/1\n",
      "10000/10000 [==============================] - 20s 2ms/step - loss: 4.7236\n",
      "Epoch 1/1\n",
      "10000/10000 [==============================] - 20s 2ms/step - loss: 4.4530\n",
      "Epoch 1/1\n",
      "10000/10000 [==============================] - 19s 2ms/step - loss: 4.5781\n",
      "Epoch 1/1\n",
      "10000/10000 [==============================] - 20s 2ms/step - loss: 4.1749\n",
      "Epoch 1/1\n",
      "10000/10000 [==============================] - 20s 2ms/step - loss: 4.2947\n",
      "Epoch 1/1\n",
      "10000/10000 [==============================] - 20s 2ms/step - loss: 4.5657\n",
      "Epoch 1/1\n",
      "10000/10000 [==============================] - 19s 2ms/step - loss: 4.6267\n",
      "Epoch 1/1\n",
      "10000/10000 [==============================] - 19s 2ms/step - loss: 4.3811\n",
      "Epoch 1/1\n",
      "10000/10000 [==============================] - 19s 2ms/step - loss: 4.5474\n",
      "Epoch 1/1\n",
      "10000/10000 [==============================] - 20s 2ms/step - loss: 4.7217\n",
      "Epoch 1/1\n",
      "10000/10000 [==============================] - 20s 2ms/step - loss: 4.5632\n",
      "Epoch 1/1\n",
      "10000/10000 [==============================] - 20s 2ms/step - loss: 4.6439\n",
      "Epoch 1/1\n",
      "10000/10000 [==============================] - 20s 2ms/step - loss: 4.7679\n",
      "Epoch 1/1\n",
      "10000/10000 [==============================] - 19s 2ms/step - loss: 4.5055\n",
      "Epoch 1/1\n",
      "10000/10000 [==============================] - 20s 2ms/step - loss: 4.6462\n",
      "Epoch 1/1\n",
      "10000/10000 [==============================] - 19s 2ms/step - loss: 4.7407\n",
      "Epoch 1/1\n",
      "10000/10000 [==============================] - 21s 2ms/step - loss: 4.7299\n",
      "Epoch 1/1\n",
      "10000/10000 [==============================] - 22s 2ms/step - loss: 4.3531\n",
      "Epoch 1/1\n",
      "10000/10000 [==============================] - 20s 2ms/step - loss: 4.7989\n",
      "Epoch 1/1\n",
      "10000/10000 [==============================] - 21s 2ms/step - loss: 4.5631\n",
      "Epoch 1/1\n",
      "10000/10000 [==============================] - 20s 2ms/step - loss: 4.5317\n",
      "Epoch 1/1\n",
      "10000/10000 [==============================] - 20s 2ms/step - loss: 4.5823\n",
      "Epoch 1/1\n",
      "10000/10000 [==============================] - 20s 2ms/step - loss: 3.8314\n",
      "Epoch 1/1\n",
      "10000/10000 [==============================] - 20s 2ms/step - loss: 4.3553\n",
      "Epoch 1/1\n",
      "10000/10000 [==============================] - 22s 2ms/step - loss: 4.2832\n",
      "Epoch 1/1\n",
      "10000/10000 [==============================] - 20s 2ms/step - loss: 4.5890\n",
      "Epoch 1/1\n",
      "10000/10000 [==============================] - 21s 2ms/step - loss: 4.2034\n",
      "Epoch 1/1\n",
      "10000/10000 [==============================] - 20s 2ms/step - loss: 4.1840\n",
      "Epoch 1/1\n",
      "10000/10000 [==============================] - 20s 2ms/step - loss: 4.2562\n",
      "Epoch 1/1\n",
      "10000/10000 [==============================] - 20s 2ms/step - loss: 4.0760\n",
      "Epoch 1/1\n",
      "10000/10000 [==============================] - 20s 2ms/step - loss: 4.2555\n",
      "Epoch 1/1\n",
      "10000/10000 [==============================] - 20s 2ms/step - loss: 4.2028\n",
      "Epoch 1/1\n",
      "10000/10000 [==============================] - 20s 2ms/step - loss: 4.1829\n",
      "Epoch 1/1\n",
      "10000/10000 [==============================] - 20s 2ms/step - loss: 4.4094\n",
      "Epoch 1/1\n",
      "10000/10000 [==============================] - 20s 2ms/step - loss: 4.5832\n",
      "Epoch 1/1\n",
      "10000/10000 [==============================] - 20s 2ms/step - loss: 4.3039\n",
      "Epoch 1/1\n",
      "10000/10000 [==============================] - 21s 2ms/step - loss: 3.8226\n",
      "Epoch 1/1\n",
      "10000/10000 [==============================] - 21s 2ms/step - loss: 3.8857\n",
      "Epoch 1/1\n",
      "2624/4213 [=================>............] - ETA: 3s - loss: 4.0704"
     ]
    },
    {
     "ename": "InvalidArgumentError",
     "evalue": " indices[61,8] = 20616 is not in [0, 20616)\n\t [[node embedding_1/embedding_lookup (defined at C:\\Users\\user\\AppData\\Roaming\\Python\\Python37\\site-packages\\tensorflow_core\\python\\framework\\ops.py:1751) ]] [Op:__inference_keras_scratch_graph_5566]\n\nFunction call stack:\nkeras_scratch_graph\n",
     "output_type": "error",
     "traceback": [
      "\u001b[1;31m---------------------------------------------------------------------------\u001b[0m",
      "\u001b[1;31mInvalidArgumentError\u001b[0m                      Traceback (most recent call last)",
      "\u001b[1;32m<ipython-input-8-44ea599900b0>\u001b[0m in \u001b[0;36m<module>\u001b[1;34m\u001b[0m\n\u001b[0;32m      9\u001b[0m     \u001b[1;32mwhile\u001b[0m \u001b[0mstart_idx_counter\u001b[0m \u001b[1;33m<\u001b[0m \u001b[0minstance_max\u001b[0m\u001b[1;33m:\u001b[0m\u001b[1;33m\u001b[0m\u001b[1;33m\u001b[0m\u001b[0m\n\u001b[0;32m     10\u001b[0m         \u001b[0mbatch_data\u001b[0m\u001b[1;33m(\u001b[0m\u001b[0mstart_idx_counter\u001b[0m\u001b[1;33m,\u001b[0m \u001b[0mmin\u001b[0m\u001b[1;33m(\u001b[0m\u001b[0mstart_idx_counter\u001b[0m\u001b[1;33m+\u001b[0m\u001b[0mbatch_size\u001b[0m\u001b[1;33m,\u001b[0m\u001b[0minstance_max\u001b[0m\u001b[1;33m)\u001b[0m\u001b[1;33m)\u001b[0m\u001b[1;33m\u001b[0m\u001b[1;33m\u001b[0m\u001b[0m\n\u001b[1;32m---> 11\u001b[1;33m         \u001b[0mmodel\u001b[0m\u001b[1;33m.\u001b[0m\u001b[0mfit\u001b[0m\u001b[1;33m(\u001b[0m\u001b[0mX_input\u001b[0m\u001b[1;33m,\u001b[0m \u001b[0my_input\u001b[0m\u001b[1;33m,\u001b[0m \u001b[0mepochs\u001b[0m\u001b[1;33m=\u001b[0m\u001b[1;36m1\u001b[0m\u001b[1;33m,\u001b[0m \u001b[0mbatch_size\u001b[0m\u001b[1;33m=\u001b[0m\u001b[1;36m64\u001b[0m\u001b[1;33m)\u001b[0m\u001b[1;33m\u001b[0m\u001b[1;33m\u001b[0m\u001b[0m\n\u001b[0m\u001b[0;32m     12\u001b[0m         \u001b[0mstart_idx_counter\u001b[0m \u001b[1;33m+=\u001b[0m \u001b[0mbatch_size\u001b[0m\u001b[1;33m\u001b[0m\u001b[1;33m\u001b[0m\u001b[0m\n\u001b[0;32m     13\u001b[0m \u001b[1;33m\u001b[0m\u001b[0m\n",
      "\u001b[1;32mC:\\Anaconda3\\lib\\site-packages\\keras\\engine\\training.py\u001b[0m in \u001b[0;36mfit\u001b[1;34m(self, x, y, batch_size, epochs, verbose, callbacks, validation_split, validation_data, shuffle, class_weight, sample_weight, initial_epoch, steps_per_epoch, validation_steps, validation_freq, max_queue_size, workers, use_multiprocessing, **kwargs)\u001b[0m\n\u001b[0;32m   1237\u001b[0m                                         \u001b[0msteps_per_epoch\u001b[0m\u001b[1;33m=\u001b[0m\u001b[0msteps_per_epoch\u001b[0m\u001b[1;33m,\u001b[0m\u001b[1;33m\u001b[0m\u001b[1;33m\u001b[0m\u001b[0m\n\u001b[0;32m   1238\u001b[0m                                         \u001b[0mvalidation_steps\u001b[0m\u001b[1;33m=\u001b[0m\u001b[0mvalidation_steps\u001b[0m\u001b[1;33m,\u001b[0m\u001b[1;33m\u001b[0m\u001b[1;33m\u001b[0m\u001b[0m\n\u001b[1;32m-> 1239\u001b[1;33m                                         validation_freq=validation_freq)\n\u001b[0m\u001b[0;32m   1240\u001b[0m \u001b[1;33m\u001b[0m\u001b[0m\n\u001b[0;32m   1241\u001b[0m     def evaluate(self,\n",
      "\u001b[1;32mC:\\Anaconda3\\lib\\site-packages\\keras\\engine\\training_arrays.py\u001b[0m in \u001b[0;36mfit_loop\u001b[1;34m(model, fit_function, fit_inputs, out_labels, batch_size, epochs, verbose, callbacks, val_function, val_inputs, shuffle, initial_epoch, steps_per_epoch, validation_steps, validation_freq)\u001b[0m\n\u001b[0;32m    194\u001b[0m                     \u001b[0mins_batch\u001b[0m\u001b[1;33m[\u001b[0m\u001b[0mi\u001b[0m\u001b[1;33m]\u001b[0m \u001b[1;33m=\u001b[0m \u001b[0mins_batch\u001b[0m\u001b[1;33m[\u001b[0m\u001b[0mi\u001b[0m\u001b[1;33m]\u001b[0m\u001b[1;33m.\u001b[0m\u001b[0mtoarray\u001b[0m\u001b[1;33m(\u001b[0m\u001b[1;33m)\u001b[0m\u001b[1;33m\u001b[0m\u001b[1;33m\u001b[0m\u001b[0m\n\u001b[0;32m    195\u001b[0m \u001b[1;33m\u001b[0m\u001b[0m\n\u001b[1;32m--> 196\u001b[1;33m                 \u001b[0mouts\u001b[0m \u001b[1;33m=\u001b[0m \u001b[0mfit_function\u001b[0m\u001b[1;33m(\u001b[0m\u001b[0mins_batch\u001b[0m\u001b[1;33m)\u001b[0m\u001b[1;33m\u001b[0m\u001b[1;33m\u001b[0m\u001b[0m\n\u001b[0m\u001b[0;32m    197\u001b[0m                 \u001b[0mouts\u001b[0m \u001b[1;33m=\u001b[0m \u001b[0mto_list\u001b[0m\u001b[1;33m(\u001b[0m\u001b[0mouts\u001b[0m\u001b[1;33m)\u001b[0m\u001b[1;33m\u001b[0m\u001b[1;33m\u001b[0m\u001b[0m\n\u001b[0;32m    198\u001b[0m                 \u001b[1;32mfor\u001b[0m \u001b[0ml\u001b[0m\u001b[1;33m,\u001b[0m \u001b[0mo\u001b[0m \u001b[1;32min\u001b[0m \u001b[0mzip\u001b[0m\u001b[1;33m(\u001b[0m\u001b[0mout_labels\u001b[0m\u001b[1;33m,\u001b[0m \u001b[0mouts\u001b[0m\u001b[1;33m)\u001b[0m\u001b[1;33m:\u001b[0m\u001b[1;33m\u001b[0m\u001b[1;33m\u001b[0m\u001b[0m\n",
      "\u001b[1;32m~\\AppData\\Roaming\\Python\\Python37\\site-packages\\tensorflow_core\\python\\keras\\backend.py\u001b[0m in \u001b[0;36m__call__\u001b[1;34m(self, inputs)\u001b[0m\n\u001b[0;32m   3738\u001b[0m         \u001b[0mvalue\u001b[0m \u001b[1;33m=\u001b[0m \u001b[0mmath_ops\u001b[0m\u001b[1;33m.\u001b[0m\u001b[0mcast\u001b[0m\u001b[1;33m(\u001b[0m\u001b[0mvalue\u001b[0m\u001b[1;33m,\u001b[0m \u001b[0mtensor\u001b[0m\u001b[1;33m.\u001b[0m\u001b[0mdtype\u001b[0m\u001b[1;33m)\u001b[0m\u001b[1;33m\u001b[0m\u001b[1;33m\u001b[0m\u001b[0m\n\u001b[0;32m   3739\u001b[0m       \u001b[0mconverted_inputs\u001b[0m\u001b[1;33m.\u001b[0m\u001b[0mappend\u001b[0m\u001b[1;33m(\u001b[0m\u001b[0mvalue\u001b[0m\u001b[1;33m)\u001b[0m\u001b[1;33m\u001b[0m\u001b[1;33m\u001b[0m\u001b[0m\n\u001b[1;32m-> 3740\u001b[1;33m     \u001b[0moutputs\u001b[0m \u001b[1;33m=\u001b[0m \u001b[0mself\u001b[0m\u001b[1;33m.\u001b[0m\u001b[0m_graph_fn\u001b[0m\u001b[1;33m(\u001b[0m\u001b[1;33m*\u001b[0m\u001b[0mconverted_inputs\u001b[0m\u001b[1;33m)\u001b[0m\u001b[1;33m\u001b[0m\u001b[1;33m\u001b[0m\u001b[0m\n\u001b[0m\u001b[0;32m   3741\u001b[0m \u001b[1;33m\u001b[0m\u001b[0m\n\u001b[0;32m   3742\u001b[0m     \u001b[1;31m# EagerTensor.numpy() will often make a copy to ensure memory safety.\u001b[0m\u001b[1;33m\u001b[0m\u001b[1;33m\u001b[0m\u001b[1;33m\u001b[0m\u001b[0m\n",
      "\u001b[1;32m~\\AppData\\Roaming\\Python\\Python37\\site-packages\\tensorflow_core\\python\\eager\\function.py\u001b[0m in \u001b[0;36m__call__\u001b[1;34m(self, *args, **kwargs)\u001b[0m\n\u001b[0;32m   1079\u001b[0m       \u001b[0mTypeError\u001b[0m\u001b[1;33m:\u001b[0m \u001b[0mFor\u001b[0m \u001b[0minvalid\u001b[0m \u001b[0mpositional\u001b[0m\u001b[1;33m/\u001b[0m\u001b[0mkeyword\u001b[0m \u001b[0margument\u001b[0m \u001b[0mcombinations\u001b[0m\u001b[1;33m.\u001b[0m\u001b[1;33m\u001b[0m\u001b[1;33m\u001b[0m\u001b[0m\n\u001b[0;32m   1080\u001b[0m     \"\"\"\n\u001b[1;32m-> 1081\u001b[1;33m     \u001b[1;32mreturn\u001b[0m \u001b[0mself\u001b[0m\u001b[1;33m.\u001b[0m\u001b[0m_call_impl\u001b[0m\u001b[1;33m(\u001b[0m\u001b[0margs\u001b[0m\u001b[1;33m,\u001b[0m \u001b[0mkwargs\u001b[0m\u001b[1;33m)\u001b[0m\u001b[1;33m\u001b[0m\u001b[1;33m\u001b[0m\u001b[0m\n\u001b[0m\u001b[0;32m   1082\u001b[0m \u001b[1;33m\u001b[0m\u001b[0m\n\u001b[0;32m   1083\u001b[0m   \u001b[1;32mdef\u001b[0m \u001b[0m_call_impl\u001b[0m\u001b[1;33m(\u001b[0m\u001b[0mself\u001b[0m\u001b[1;33m,\u001b[0m \u001b[0margs\u001b[0m\u001b[1;33m,\u001b[0m \u001b[0mkwargs\u001b[0m\u001b[1;33m,\u001b[0m \u001b[0mcancellation_manager\u001b[0m\u001b[1;33m=\u001b[0m\u001b[1;32mNone\u001b[0m\u001b[1;33m)\u001b[0m\u001b[1;33m:\u001b[0m\u001b[1;33m\u001b[0m\u001b[1;33m\u001b[0m\u001b[0m\n",
      "\u001b[1;32m~\\AppData\\Roaming\\Python\\Python37\\site-packages\\tensorflow_core\\python\\eager\\function.py\u001b[0m in \u001b[0;36m_call_impl\u001b[1;34m(self, args, kwargs, cancellation_manager)\u001b[0m\n\u001b[0;32m   1119\u001b[0m       raise TypeError(\"Keyword arguments {} unknown. Expected {}.\".format(\n\u001b[0;32m   1120\u001b[0m           list(kwargs.keys()), list(self._arg_keywords)))\n\u001b[1;32m-> 1121\u001b[1;33m     \u001b[1;32mreturn\u001b[0m \u001b[0mself\u001b[0m\u001b[1;33m.\u001b[0m\u001b[0m_call_flat\u001b[0m\u001b[1;33m(\u001b[0m\u001b[0margs\u001b[0m\u001b[1;33m,\u001b[0m \u001b[0mself\u001b[0m\u001b[1;33m.\u001b[0m\u001b[0mcaptured_inputs\u001b[0m\u001b[1;33m,\u001b[0m \u001b[0mcancellation_manager\u001b[0m\u001b[1;33m)\u001b[0m\u001b[1;33m\u001b[0m\u001b[1;33m\u001b[0m\u001b[0m\n\u001b[0m\u001b[0;32m   1122\u001b[0m \u001b[1;33m\u001b[0m\u001b[0m\n\u001b[0;32m   1123\u001b[0m   \u001b[1;32mdef\u001b[0m \u001b[0m_filtered_call\u001b[0m\u001b[1;33m(\u001b[0m\u001b[0mself\u001b[0m\u001b[1;33m,\u001b[0m \u001b[0margs\u001b[0m\u001b[1;33m,\u001b[0m \u001b[0mkwargs\u001b[0m\u001b[1;33m)\u001b[0m\u001b[1;33m:\u001b[0m\u001b[1;33m\u001b[0m\u001b[1;33m\u001b[0m\u001b[0m\n",
      "\u001b[1;32m~\\AppData\\Roaming\\Python\\Python37\\site-packages\\tensorflow_core\\python\\eager\\function.py\u001b[0m in \u001b[0;36m_call_flat\u001b[1;34m(self, args, captured_inputs, cancellation_manager)\u001b[0m\n\u001b[0;32m   1222\u001b[0m     \u001b[1;32mif\u001b[0m \u001b[0mexecuting_eagerly\u001b[0m\u001b[1;33m:\u001b[0m\u001b[1;33m\u001b[0m\u001b[1;33m\u001b[0m\u001b[0m\n\u001b[0;32m   1223\u001b[0m       flat_outputs = forward_function.call(\n\u001b[1;32m-> 1224\u001b[1;33m           ctx, args, cancellation_manager=cancellation_manager)\n\u001b[0m\u001b[0;32m   1225\u001b[0m     \u001b[1;32melse\u001b[0m\u001b[1;33m:\u001b[0m\u001b[1;33m\u001b[0m\u001b[1;33m\u001b[0m\u001b[0m\n\u001b[0;32m   1226\u001b[0m       \u001b[0mgradient_name\u001b[0m \u001b[1;33m=\u001b[0m \u001b[0mself\u001b[0m\u001b[1;33m.\u001b[0m\u001b[0m_delayed_rewrite_functions\u001b[0m\u001b[1;33m.\u001b[0m\u001b[0mregister\u001b[0m\u001b[1;33m(\u001b[0m\u001b[1;33m)\u001b[0m\u001b[1;33m\u001b[0m\u001b[1;33m\u001b[0m\u001b[0m\n",
      "\u001b[1;32m~\\AppData\\Roaming\\Python\\Python37\\site-packages\\tensorflow_core\\python\\eager\\function.py\u001b[0m in \u001b[0;36mcall\u001b[1;34m(self, ctx, args, cancellation_manager)\u001b[0m\n\u001b[0;32m    509\u001b[0m               \u001b[0minputs\u001b[0m\u001b[1;33m=\u001b[0m\u001b[0margs\u001b[0m\u001b[1;33m,\u001b[0m\u001b[1;33m\u001b[0m\u001b[1;33m\u001b[0m\u001b[0m\n\u001b[0;32m    510\u001b[0m               \u001b[0mattrs\u001b[0m\u001b[1;33m=\u001b[0m\u001b[1;33m(\u001b[0m\u001b[1;34m\"executor_type\"\u001b[0m\u001b[1;33m,\u001b[0m \u001b[0mexecutor_type\u001b[0m\u001b[1;33m,\u001b[0m \u001b[1;34m\"config_proto\"\u001b[0m\u001b[1;33m,\u001b[0m \u001b[0mconfig\u001b[0m\u001b[1;33m)\u001b[0m\u001b[1;33m,\u001b[0m\u001b[1;33m\u001b[0m\u001b[1;33m\u001b[0m\u001b[0m\n\u001b[1;32m--> 511\u001b[1;33m               ctx=ctx)\n\u001b[0m\u001b[0;32m    512\u001b[0m         \u001b[1;32melse\u001b[0m\u001b[1;33m:\u001b[0m\u001b[1;33m\u001b[0m\u001b[1;33m\u001b[0m\u001b[0m\n\u001b[0;32m    513\u001b[0m           outputs = execute.execute_with_cancellation(\n",
      "\u001b[1;32m~\\AppData\\Roaming\\Python\\Python37\\site-packages\\tensorflow_core\\python\\eager\\execute.py\u001b[0m in \u001b[0;36mquick_execute\u001b[1;34m(op_name, num_outputs, inputs, attrs, ctx, name)\u001b[0m\n\u001b[0;32m     65\u001b[0m     \u001b[1;32melse\u001b[0m\u001b[1;33m:\u001b[0m\u001b[1;33m\u001b[0m\u001b[1;33m\u001b[0m\u001b[0m\n\u001b[0;32m     66\u001b[0m       \u001b[0mmessage\u001b[0m \u001b[1;33m=\u001b[0m \u001b[0me\u001b[0m\u001b[1;33m.\u001b[0m\u001b[0mmessage\u001b[0m\u001b[1;33m\u001b[0m\u001b[1;33m\u001b[0m\u001b[0m\n\u001b[1;32m---> 67\u001b[1;33m     \u001b[0msix\u001b[0m\u001b[1;33m.\u001b[0m\u001b[0mraise_from\u001b[0m\u001b[1;33m(\u001b[0m\u001b[0mcore\u001b[0m\u001b[1;33m.\u001b[0m\u001b[0m_status_to_exception\u001b[0m\u001b[1;33m(\u001b[0m\u001b[0me\u001b[0m\u001b[1;33m.\u001b[0m\u001b[0mcode\u001b[0m\u001b[1;33m,\u001b[0m \u001b[0mmessage\u001b[0m\u001b[1;33m)\u001b[0m\u001b[1;33m,\u001b[0m \u001b[1;32mNone\u001b[0m\u001b[1;33m)\u001b[0m\u001b[1;33m\u001b[0m\u001b[1;33m\u001b[0m\u001b[0m\n\u001b[0m\u001b[0;32m     68\u001b[0m   \u001b[1;32mexcept\u001b[0m \u001b[0mTypeError\u001b[0m \u001b[1;32mas\u001b[0m \u001b[0me\u001b[0m\u001b[1;33m:\u001b[0m\u001b[1;33m\u001b[0m\u001b[1;33m\u001b[0m\u001b[0m\n\u001b[0;32m     69\u001b[0m     keras_symbolic_tensors = [\n",
      "\u001b[1;32m~\\AppData\\Roaming\\Python\\Python37\\site-packages\\six.py\u001b[0m in \u001b[0;36mraise_from\u001b[1;34m(value, from_value)\u001b[0m\n",
      "\u001b[1;31mInvalidArgumentError\u001b[0m:  indices[61,8] = 20616 is not in [0, 20616)\n\t [[node embedding_1/embedding_lookup (defined at C:\\Users\\user\\AppData\\Roaming\\Python\\Python37\\site-packages\\tensorflow_core\\python\\framework\\ops.py:1751) ]] [Op:__inference_keras_scratch_graph_5566]\n\nFunction call stack:\nkeras_scratch_graph\n"
     ]
    }
   ],
   "source": [
    "i = 0\n",
    "max_epoch = 1 # Change this max_epoch\n",
    "instance_max = len(X)\n",
    "batch_size = 10000\n",
    "\n",
    "for i in range(max_epoch):\n",
    "    start_idx_counter = 0\n",
    "    print(\"epoch %d\" % (i))\n",
    "    while start_idx_counter < instance_max:\n",
    "        batch_data(start_idx_counter, min(start_idx_counter+batch_size,instance_max))\n",
    "        model.fit(X_input, y_input, epochs=1, batch_size=64) \n",
    "        start_idx_counter += batch_size\n",
    "\n"
   ]
  },
  {
   "cell_type": "code",
   "execution_count": 9,
   "metadata": {},
   "outputs": [],
   "source": [
    "model.save('lyric_gen_model.h5')\n",
    "pickle.dump( pre, open( \"tokenizer_pre_lyric.p\", \"wb\" ))"
   ]
  },
  {
   "cell_type": "code",
   "execution_count": 10,
   "metadata": {},
   "outputs": [
    {
     "name": "stderr",
     "output_type": "stream",
     "text": [
      "C:\\Users\\user\\AppData\\Roaming\\Python\\Python37\\site-packages\\tensorflow_core\\python\\framework\\indexed_slices.py:424: UserWarning: Converting sparse IndexedSlices to a dense Tensor of unknown shape. This may consume a large amount of memory.\n",
      "  \"Converting sparse IndexedSlices to a dense Tensor of unknown shape. \"\n"
     ]
    }
   ],
   "source": [
    "model = keras.models.load_model('lyric_gen_model.h5')\n",
    "pre = pickle.load( open( \"tokenizer_pre_lyric.p\", \"rb\" ) )"
   ]
  },
  {
   "cell_type": "code",
   "execution_count": 11,
   "metadata": {},
   "outputs": [],
   "source": [
    "def preprocess_predict(X):\n",
    "    X = pre.texts_to_sequences(X)\n",
    "    return X\n",
    "\n",
    "def is_word_in_dict(words, word_idx):\n",
    "    for word in words.split():\n",
    "        if word not in word_idx:\n",
    "            print(word_idx)\n",
    "            print(word)\n",
    "            return False\n",
    "    return True\n",
    "\n",
    "def generate_song_by_model(model, idx_word, X_sent, total_length, word_idx, total_classes, word_generated):\n",
    "    string_returned = X_sent\n",
    "    if is_word_in_dict(X_sent, word_idx):\n",
    "        X = np.array(preprocess_predict([X_sent]))\n",
    "        counter = 1\n",
    "\n",
    "        for i in range(word_generated):\n",
    "            y_pred = model.predict(X)\n",
    "            rnd_choice = np.random.choice(range(0,total_classes),size=1,replace=False, p=y_pred[0])\n",
    "            word_predict = idx_word[rnd_choice[0]]\n",
    "            string_returned = string_returned + \" \" + word_predict\n",
    "            X = ' '.join(string_returned.split()[counter:])\n",
    "            X = np.array(preprocess_predict([X]))\n",
    "            counter += 1\n",
    "\n",
    "        return string_returned"
   ]
  },
  {
   "cell_type": "code",
   "execution_count": 13,
   "metadata": {},
   "outputs": [
    {
     "data": {
      "text/html": [
       "<start> <start> <start> <start> <start> <start> <start> <start> <start>  <div> < embeddedmusicvideo >< endofembeddedmusicvideo >tak mungkin kau tahu semua kuberi padaku </div> <div> semua hilang yang kau memberi penuh </div> <div> mengharapkan kenyataan yang kenal auo </div> <div> berharap kau tak berpindah yang sempurna </div> <br> <div> interlude </div> <div> la la la la la la la la la"
      ],
      "text/plain": [
       "<IPython.core.display.HTML object>"
      ]
     },
     "execution_count": 13,
     "metadata": {},
     "output_type": "execute_result"
    }
   ],
   "source": [
    "max_length = 10\n",
    "vocab_size = len(pre.word_index)\n",
    "seed = \"<start> \" * (max_length-1)\n",
    "generated_lyric = generate_song_by_model(model, pre.index_word, seed, max_length, pre.word_index, vocab_size+1,word_generated=50)\n",
    "HTML(generated_lyric)"
   ]
  }
 ],
 "metadata": {
  "kernelspec": {
   "display_name": "Python 3",
   "language": "python",
   "name": "python3"
  },
  "language_info": {
   "codemirror_mode": {
    "name": "ipython",
    "version": 3
   },
   "file_extension": ".py",
   "mimetype": "text/x-python",
   "name": "python",
   "nbconvert_exporter": "python",
   "pygments_lexer": "ipython3",
   "version": "3.7.4"
  }
 },
 "nbformat": 4,
 "nbformat_minor": 2
}
