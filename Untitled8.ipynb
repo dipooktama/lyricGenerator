{
 "cells": [
  {
   "cell_type": "code",
   "execution_count": null,
   "metadata": {},
   "outputs": [],
   "source": [
    "import pandas as pd\n",
    "import numpy as np\n",
    "import re\n",
    "from sklearn import preprocessing\n",
    "from keras.layers import Dense\n",
    "from keras.layers import Embedding\n",
    "from keras import Sequential\n",
    "import keras\n",
    "import pickle\n",
    "from IPython.display import HTML"
   ]
  },
  {
   "cell_type": "code",
   "execution_count": null,
   "metadata": {},
   "outputs": [],
   "source": [
    "def clean_text_lyric(lyric, max_length):\n",
    "    lyric_sample = lyric.split('</span>')\n",
    "    lyric_sample = lyric_sample[:-1]\n",
    "    \n",
    "    clean_song_lyric = \"\"\n",
    "    for sentence in lyric_sample:\n",
    "        if 'http' not in sentence:\n",
    "            sentence = re.sub(r'<div .*>','',sentence)\n",
    "            sentence = re.sub(r'<span .*>','',sentence)\n",
    "            sentence = sentence.strip()\n",
    "            if len(sentence) > 0:\n",
    "                sentence = re.sub(r'[^a-zA-Z0-9<\\/>\\s]',' ', sentence)\n",
    "\n",
    "                sentence = \" <div> \" + sentence + \" </div> \"\n",
    "                sentence = re.sub(r'<div>\\s+<br>','<br> <div> ', sentence)\n",
    "                sentence = re.sub(r'(\\d|\\r|\\t|\\n)','',sentence)\n",
    "\n",
    "                clean_song_lyric += sentence\n",
    "\n",
    "    clean_song_lyric = ' <start> ' * (max_length-1) + clean_song_lyric\n",
    "    return clean_song_lyric"
   ]
  },
  {
   "cell_type": "code",
   "execution_count": null,
   "metadata": {},
   "outputs": [],
   "source": [
    "max_length = 10\n",
    "\n",
    "scrape_lyric = pd.read_csv('scrape.csv')\n",
    "scrape_lyric = scrape_lyric[['song','band']]\n",
    "scrape_lyric = scrape_lyric.dropna()\n",
    "scrape_lyric = scrape_lyric[scrape_lyric.song.str.contains('span')]\n",
    "scrape_lyric.song = scrape_lyric.song.apply(lambda x: clean_text_lyric(x,max_length))\n",
    "scrape_lyric = scrape_lyric[~(scrape_lyric.song.str.contains('Belum Ada Lirik'))]\n",
    "scrape_lyric = scrape_lyric.reset_index(drop=True)"
   ]
  },
  {
   "cell_type": "code",
   "execution_count": null,
   "metadata": {},
   "outputs": [],
   "source": [
    "def generate_train_dataset(song_series, window):\n",
    "    train_data = []\n",
    "    train_label = []\n",
    "    for song_string in song_series:\n",
    "        song_arr = song_string.split()\n",
    "        len_song_arr = len(song_arr)\n",
    "\n",
    "        for i in range(0,len_song_arr-window+1):\n",
    "            train_data.append(' '.join(song_arr[i:i+window-1]))\n",
    "            train_label.append(song_arr[i+window-1])\n",
    "    return np.array(train_data), np.array(train_label)"
   ]
  },
  {
   "cell_type": "code",
   "execution_count": null,
   "metadata": {},
   "outputs": [],
   "source": [
    "X, y = generate_train_dataset(scrape_lyric.song, window=max_length)\n",
    "pre = keras.preprocessing.text.Tokenizer(filters='!\"#$%&()*+,-.:;=?@[\\\\]^_`{|}~\\t\\n')\n",
    "pre.fit_on_texts(X.flatten())\n",
    "\n",
    "vocab_size = len(pre.word_index)\n",
    "X = pre.texts_to_sequences(X)\n",
    "y = pre.texts_to_sequences(y)"
   ]
  },
  {
   "cell_type": "code",
   "execution_count": null,
   "metadata": {},
   "outputs": [],
   "source": [
    "model = Sequential()\n",
    "e = Embedding(vocab_size,100 ,input_length=max_length-1, trainable=True)\n",
    "model.add(e)\n",
    "model.add(keras.layers.BatchNormalization())\n",
    "model.add(keras.layers.Bidirectional(keras.layers.CuDNNLSTM(100)))\n",
    "model.add(keras.layers.BatchNormalization())\n",
    "\n",
    "model.add(Dense(100, activation='relu'))\n",
    "model.add(keras.layers.BatchNormalization())\n",
    "\n",
    "model.add(Dense(vocab_size+1, activation='softmax'))\n",
    "# compile the model\n",
    "model.compile(optimizer='adam', loss='categorical_crossentropy')"
   ]
  },
  {
   "cell_type": "code",
   "execution_count": null,
   "metadata": {},
   "outputs": [],
   "source": [
    "def batch_data(start,end):\n",
    "    global X,y,y_input, X_input\n",
    "    X_input = np.array(X)[start:end]\n",
    "    y_input = np.array(y)[start:end]\n",
    "    y_input = keras.utils.to_categorical(y_input,vocab_size+1)"
   ]
  },
  {
   "cell_type": "code",
   "execution_count": null,
   "metadata": {},
   "outputs": [],
   "source": [
    "i = 0\n",
    "max_epoch = 1 # Change this max_epoch\n",
    "instance_max = len(X)\n",
    "batch_size = 10000\n",
    "\n",
    "for i in range(max_epoch):\n",
    "    start_idx_counter = 0\n",
    "    print(\"epoch %d\" % (i))\n",
    "    while start_idx_counter < instance_max:\n",
    "        batch_data(start_idx_counter, min(start_idx_counter+batch_size,instance_max))\n",
    "        model.fit(X_input, y_input, epochs=1, batch_size=64) \n",
    "        start_idx_counter += batch_size"
   ]
  },
  {
   "cell_type": "code",
   "execution_count": null,
   "metadata": {},
   "outputs": [],
   "source": [
    "model.save('lyric_gen_model.h5')\n",
    "pickle.dump( pre, open( \"tokenizer_pre_lyric.p\", \"wb\" ) )"
   ]
  },
  {
   "cell_type": "code",
   "execution_count": null,
   "metadata": {},
   "outputs": [],
   "source": [
    "model = keras.models.load_model('lyric_gen_model.h5')\n",
    "pre = pickle.load( open( \"tokenizer_pre_lyric.p\", \"rb\" ) )"
   ]
  },
  {
   "cell_type": "code",
   "execution_count": null,
   "metadata": {},
   "outputs": [],
   "source": [
    "def preprocess_predict(X):\n",
    "    X = pre.texts_to_sequences(X)\n",
    "    return X\n",
    "\n",
    "def is_word_in_dict(words, word_idx):\n",
    "    for word in words.split():\n",
    "        if word not in word_idx:\n",
    "            print(word_idx)\n",
    "            print(word)\n",
    "            return False\n",
    "    return True\n",
    "\n",
    "def generate_song_by_model(model, idx_word, X_sent, total_length, word_idx, total_classes, word_generated=80):\n",
    "    string_returned = X_sent\n",
    "    if is_word_in_dict(X_sent, word_idx):\n",
    "        X = np.array(preprocess_predict([X_sent]))\n",
    "        counter = 1\n",
    "\n",
    "        for i in range(word_generated):\n",
    "            y_pred = model.predict(X)\n",
    "            rnd_choice = np.random.choice(range(0,total_classes),size=1,replace=False, p=y_pred[0])\n",
    "            word_predict = idx_word[rnd_choice[0]]\n",
    "            string_returned = string_returned + \" \" + word_predict\n",
    "            X = ' '.join(string_returned.split()[counter:])\n",
    "            X = np.array(preprocess_predict([X]))\n",
    "            counter += 1\n",
    "\n",
    "        return string_returned"
   ]
  },
  {
   "cell_type": "code",
   "execution_count": null,
   "metadata": {},
   "outputs": [],
   "source": [
    "max_length = 10\n",
    "vocab_size = len(pre.word_index)\n",
    "seed = \"<start> \" * (max_length-1)\n",
    "generated_lyric = generate_song_by_model(model, pre.index_word, seed, max_length, pre.word_index, vocab_size+1,word_generated=50)\n",
    "HTML(generated_lyric)"
   ]
  }
 ],
 "metadata": {
  "kernelspec": {
   "display_name": "Python 3",
   "language": "python",
   "name": "python3"
  },
  "language_info": {
   "codemirror_mode": {
    "name": "ipython",
    "version": 3
   },
   "file_extension": ".py",
   "mimetype": "text/x-python",
   "name": "python",
   "nbconvert_exporter": "python",
   "pygments_lexer": "ipython3",
   "version": "3.7.3"
  }
 },
 "nbformat": 4,
 "nbformat_minor": 2
}
